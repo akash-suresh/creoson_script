{
 "cells": [
  {
   "cell_type": "code",
   "execution_count": 1,
   "metadata": {},
   "outputs": [],
   "source": [
    "import requests\n",
    "import json"
   ]
  },
  {
   "cell_type": "code",
   "execution_count": null,
   "metadata": {},
   "outputs": [],
   "source": [
    "def getSessionId():\n",
    "    payload = \"{\\r\\n  \\\"command\\\": \\\"connection\\\",\\r\\n  \\\"function\\\": \\\"connect\\\"\\r\\n}\"\n",
    "    response = requests.request(\"POST\", creoson_url, data=payload)\n",
    "    json_data = json.loads(response.text)\n",
    "    if json_data['status']['error'] == True:\n",
    "        return \n",
    "        print('ERROR in creating session')\n",
    "    else:\n",
    "        sessionId = json_data[\"sessionId\"]\n",
    "        print('SUCCESSFULLY created session : '+sessionId)\n",
    "        return sessionId\n"
   ]
  },
  {
   "cell_type": "code",
   "execution_count": 2,
   "metadata": {},
   "outputs": [],
   "source": [
    "#defining global variables\n",
    "creoson_url = \"https://53376b9a.ngrok.io/creoson\"\n",
    "session_id = getSessionId()"
   ]
  },
  {
   "cell_type": "code",
   "execution_count": 5,
   "metadata": {},
   "outputs": [],
   "source": [
    "def openFile(dirName, fileName):\n",
    "    payload = \"{\\r\\n  \\\"sessionId\\\": \\\"\"+sessionId+\"\\\",\\r\\n  \\\"command\\\": \\\"file\\\",\\r\\n  \\\"function\\\": \\\"open\\\",\\r\\n  \\\"data\\\": {\\r\\n\\t\\\"dirname\\\": \\\"\"+dirName+\"\\\",\\r\\n    \\\"file\\\": \\\"\"+fileName+\"\\\",\\r\\n    \\\"display\\\": true,\\r\\n    \\\"activate\\\": true\\r\\n  }\\r\\n}\"\n",
    "    response = requests.request(\"POST\", creoson_url, data=payload)\n",
    "    json_data = json.loads(response.text)\n",
    "    if json_data['status']['error'] == True:\n",
    "        print('ERROR in opening file '+fileName)\n",
    "    else:\n",
    "        print('SUCCESSFULLY opened file '+fileName)"
   ]
  },
  {
   "cell_type": "code",
   "execution_count": 6,
   "metadata": {},
   "outputs": [],
   "source": [
    "def closeFile(fileName):\n",
    "    payload = \"{\\r\\n  \\\"sessionId\\\": \\\"\"+sessionId+\"\\\",\\r\\n  \\\"command\\\": \\\"file\\\",\\r\\n  \\\"function\\\": \\\"close_window\\\",\\r\\n  \\\"data\\\": {\\r\\n    \\\"file\\\": \\\"\"+fileName+\"\\\"\\r\\n  }\\r\\n}\"\n",
    "    response = requests.request(\"POST\", creoson_url, data=payload)\n",
    "\n",
    "    json_data = json.loads(response.text)\n",
    "    if json_data['status']['error'] == True:\n",
    "        print('ERROR in closing file '+fileName)\n",
    "    else:\n",
    "        print('SUCCESSFULLY closed file '+fileName)"
   ]
  },
  {
   "cell_type": "code",
   "execution_count": 7,
   "metadata": {},
   "outputs": [
    {
     "name": "stdout",
     "output_type": "stream",
     "text": [
      "SUCCESSFULLY opened file blade_holder.prt\n"
     ]
    }
   ],
   "source": [
    "# openFile('subdir', 'blade_holder.prt')"
   ]
  },
  {
   "cell_type": "code",
   "execution_count": 11,
   "metadata": {},
   "outputs": [
    {
     "name": "stdout",
     "output_type": "stream",
     "text": [
      "SUCCESSFULLY closed file blade_holder.prt\n"
     ]
    }
   ],
   "source": [
    "# closeFile('blade_holder.prt')"
   ]
  },
  {
   "cell_type": "code",
   "execution_count": 12,
   "metadata": {},
   "outputs": [],
   "source": [
    "def exportPdf(fileName, exportDirName):\n",
    "    payload = \"{\\r\\n  \\\"sessionId\\\": \\\"\"+sessionId+\"\\\",\\r\\n  \\\"command\\\": \\\"interface\\\",\\r\\n  \\\"function\\\": \\\"export_pdf\\\",\\r\\n  \\\"data\\\": {\\r\\n    \\\"file\\\": \\\"\"+fileName+\"\\\",\\r\\n    \\\"dirname\\\": \\\"\"+exportDirName+\"\\\"\\r\\n  }\\r\\n}\"\n",
    "    response = requests.request(\"POST\", creoson_url, data=payload)\n",
    "\n",
    "    json_data = json.loads(response.text)\n",
    "    if json_data['status']['error'] == True:\n",
    "        print('ERROR in exporting PDF for file '+fileName)\n",
    "    else:\n",
    "        print('SUCCESSFULLY exported PDF for file '+fileName)"
   ]
  },
  {
   "cell_type": "code",
   "execution_count": 10,
   "metadata": {},
   "outputs": [
    {
     "name": "stdout",
     "output_type": "stream",
     "text": [
      "SUCCESSFULLY exported PDF for file blade_holder.prt\n"
     ]
    }
   ],
   "source": [
    "# exportPdf('blade_holder.prt', 'subdir/pdfs')"
   ]
  },
  {
   "cell_type": "code",
   "execution_count": 13,
   "metadata": {},
   "outputs": [],
   "source": [
    "def loadAndExportToPDF(originalDirName, fileName, exportDirName, exportFileName):\n",
    "    exportPdf(fileName, exportDirName)\n",
    "    closeFile(fileName)\n",
    "    "
   ]
  },
  {
   "cell_type": "code",
   "execution_count": 15,
   "metadata": {},
   "outputs": [
    {
     "name": "stdout",
     "output_type": "stream",
     "text": [
      "SUCCESSFULLY exported PDF for file blade_holder.prt\n",
      "SUCCESSFULLY closed file blade_holder.prt\n"
     ]
    }
   ],
   "source": [
    "loadAndExportToPDF('','blade_holder.prt','subdir/pdfs','')"
   ]
  },
  {
   "cell_type": "code",
   "execution_count": null,
   "metadata": {},
   "outputs": [],
   "source": []
  }
 ],
 "metadata": {
  "kernelspec": {
   "display_name": "Python 2",
   "language": "python",
   "name": "python2"
  },
  "language_info": {
   "codemirror_mode": {
    "name": "ipython",
    "version": 2
   },
   "file_extension": ".py",
   "mimetype": "text/x-python",
   "name": "python",
   "nbconvert_exporter": "python",
   "pygments_lexer": "ipython2",
   "version": "2.7.13"
  }
 },
 "nbformat": 4,
 "nbformat_minor": 2
}
